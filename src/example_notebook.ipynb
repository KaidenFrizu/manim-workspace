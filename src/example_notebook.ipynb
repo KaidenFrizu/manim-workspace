{
 "cells": [
  {
   "cell_type": "markdown",
   "metadata": {},
   "source": [
    "# Rendering Manim Animations through Jupyter Code Cells\n",
    "\n",
    "For more code examples, visit: https://docs.manim.community/en/stable/examples.html\n",
    "\n",
    "Note: It is recommended to run this notebook in Jupyter Lab. Notebook extension in `vscode` couldn't render videos within the notebook environment."
   ]
  },
  {
   "cell_type": "code",
   "execution_count": null,
   "metadata": {},
   "outputs": [],
   "source": [
    "from manim import *"
   ]
  },
  {
   "cell_type": "code",
   "execution_count": null,
   "metadata": {},
   "outputs": [],
   "source": [
    "%%manim -v WARNING SquareToCircle\n",
    "\n",
    "class SquareToCircle(Scene):\n",
    "   def construct(self):\n",
    "      square = Square()\n",
    "      square.set_fill(BLUE, opacity=0.5)\n",
    "      circle = Circle()\n",
    "      circle.set_fill(PINK, opacity=0.5)\n",
    "      self.play(Create(square))\n",
    "      self.play(Transform(square, circle))\n",
    "      self.wait(2)"
   ]
  }
 ],
 "metadata": {
  "kernelspec": {
   "display_name": "Python 3",
   "language": "python",
   "name": "python3"
  },
  "language_info": {
   "codemirror_mode": {
    "name": "ipython",
    "version": 3
   },
   "file_extension": ".py",
   "mimetype": "text/x-python",
   "name": "python",
   "nbconvert_exporter": "python",
   "pygments_lexer": "ipython3",
   "version": "3.11.11"
  }
 },
 "nbformat": 4,
 "nbformat_minor": 4
}
